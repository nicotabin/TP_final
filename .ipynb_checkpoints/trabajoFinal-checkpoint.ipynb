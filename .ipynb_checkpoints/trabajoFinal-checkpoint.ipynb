{
 "cells": [
  {
   "cell_type": "code",
   "execution_count": 1,
   "id": "a3608f77",
   "metadata": {},
   "outputs": [],
   "source": [
    "#importación de herramientas\n",
    "import tweepy\n",
    "import json\n",
    "import pandas\n",
    "import keras\n",
    "import matplotlib\n",
    "import numpy\n",
    "import csv"
   ]
  },
  {
   "cell_type": "code",
   "execution_count": null,
   "id": "3943640d",
   "metadata": {},
   "outputs": [],
   "source": [
    "#4 variables para autenticación\n",
    "consumer_key = \"\"\n",
    "consumer_secret = \"\"\n",
    "access_token = \"\"\n",
    "access_token_secret = \"\""
   ]
  },
  {
   "cell_type": "code",
   "execution_count": null,
   "id": "9e9a1b13",
   "metadata": {},
   "outputs": [],
   "source": [
    "#seteo de autenticación\n",
    "auth = tweepy.OAuthHandler(consumer_key, consumer_secret)\n",
    "auth.set_access_token(access_token, access_token_secret)\n",
    "\n",
    "tweepy.API(auth)"
   ]
  },
  {
   "cell_type": "code",
   "execution_count": null,
   "id": "995dd39b",
   "metadata": {},
   "outputs": [],
   "source": [
    "#prueba de recupero de 10 tweets\n",
    "def pruebaRecupero():\n",
    "    with open('%s.csv' % (\"usuarios_depresion\"), 'w', encoding='utf-8') as file:\n",
    "        w = csv.writer(file)\n",
    "        w.writerow(['average_minutes', 'tweet_text', 'userid', 'before_tweets', 'depression'])\n",
    "        for tweet, idx in tweepy.Cursor(api.search, q=\"diagnosticado con depresión\" ,\n",
    "                                        filter:retweets, hashtags, has:media, images, \n",
    "                                        tweet_mode=\"extended\").items(10):\n",
    "            before_tweets = []\n",
    "            count = 0\n",
    "            first_date = tweet.created_at\n",
    "            dates_sum = 0\n",
    "            for t, idx in tweepy.Cursor(api.search, since=tweet.created_at - 2 months,\n",
    "                                        until=tweet.created_at, \n",
    "                                        filter:retweets, hashtags, has:media, images, \n",
    "                                        user=  tweet.user.id\n",
    "                                        tweet_mode=\"extended\").items(2):\n",
    "                dates_sum = dates_sum + (first_date - t.created_at).minutes\n",
    "                before_tweets.append(t.full_text.replace('\\n',' ').encode('utf-8'))\n",
    "                first_date = t.created_at\n",
    "            w.writerow([dates_sum / (before_tweets + 1), \n",
    "                        tweet.full_text.replace('\\n',' ').encode('utf-8'), \n",
    "                        tweet.user.id,\n",
    "                        before_tweets,\n",
    "                        None])\n",
    "\n",
    "    data = pd.read_csv(r'Path\\usuarios_depresion.csv')\n",
    "    usuarios_depresion = pd.DataFrame(data)\n",
    "\n",
    "    print (usuarios_depresion)"
   ]
  },
  {
   "cell_type": "code",
   "execution_count": null,
   "id": "5217c67b",
   "metadata": {},
   "outputs": [],
   "source": [
    "pruebaRecupero()"
   ]
  }
 ],
 "metadata": {
  "kernelspec": {
   "display_name": "Python 3",
   "language": "python",
   "name": "python3"
  },
  "language_info": {
   "codemirror_mode": {
    "name": "ipython",
    "version": 3
   },
   "file_extension": ".py",
   "mimetype": "text/x-python",
   "name": "python",
   "nbconvert_exporter": "python",
   "pygments_lexer": "ipython3",
   "version": "3.8.5"
  }
 },
 "nbformat": 4,
 "nbformat_minor": 5
}
